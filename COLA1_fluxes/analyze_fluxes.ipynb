{
 "cells": [
  {
   "cell_type": "code",
   "execution_count": null,
   "metadata": {},
   "outputs": [],
   "source": [
    "import numpy as np\n",
    "from astropy.io import fits\n",
    "import matplotlib.pyplot as plt"
   ]
  },
  {
   "cell_type": "code",
   "execution_count": null,
   "metadata": {},
   "outputs": [],
   "source": [
    "cat = fits.open('COLA1_O3_fitted_flux.fits')[1].data\n",
    "cat.columns"
   ]
  },
  {
   "cell_type": "code",
   "execution_count": null,
   "metadata": {},
   "outputs": [],
   "source": [
    "src = cat['NUMBER_1'] == 9269"
   ]
  },
  {
   "cell_type": "code",
   "execution_count": null,
   "metadata": {},
   "outputs": [],
   "source": [
    "import astropy.units as u\n",
    "import astropy.constants as c\n",
    "\n",
    "# F356W without lines\n",
    "fwhm = 0.787 * u.micron\n",
    "w_pivot = 3.563 * u.micron\n",
    "redshift = 6.5916\n",
    "\n",
    "F356W = cat['F356W_AUTO_fnu'][src] * u.nJy\n",
    "\n",
    "Fl_units = 1e-18 * u.erg * u.s**-1 * u.cm**-2\n",
    "\n",
    "flambda_OIII_5008 = cat['f_O3_5008'][src] * Fl_units / w_pivot / fwhm * 0.5008 * u.micron * (1 + redshift)\n",
    "flambda_OIII_4960 = cat['f_O3_4960'][src] * Fl_units / w_pivot / fwhm * 0.4960 * u.micron * (1 + redshift)\n",
    "flambda_OIII_4363 = cat['f_O3_4363'][src] * Fl_units / w_pivot / fwhm * 0.4363 * u.micron * (1 + redshift)\n",
    "flambda_Hb = cat['f_Hb'][src] * Fl_units / w_pivot / fwhm * 0.4862 * u.micron * (1 + redshift)\n",
    "flambda_Hg = cat['f_Hg'][src] * Fl_units / w_pivot / fwhm * 0.4341 * u.micron * (1 + redshift)\n",
    "\n",
    "flambda_lines = flambda_OIII_4363 + flambda_OIII_4960 + flambda_OIII_5008 + flambda_Hb + flambda_Hg\n",
    "\n",
    "\n",
    "F356W_noline = F356W - flambda_lines / c.c * w_pivot**2\n",
    "F356W_noline"
   ]
  },
  {
   "cell_type": "code",
   "execution_count": null,
   "metadata": {},
   "outputs": [],
   "source": [
    "def double_power_law(wav, norm, wav_break, beta1, beta2):\n",
    "    exp1 = (wav_break - wav) * (beta1 - 1)\n",
    "    exp2 = (wav_break - wav) * (beta2 - 1)\n",
    "\n",
    "    return norm * (10. ** exp1 + 10. ** exp2)"
   ]
  },
  {
   "cell_type": "code",
   "execution_count": null,
   "metadata": {},
   "outputs": [],
   "source": [
    "fig, ax = plt.subplots()\n",
    "\n",
    "# F115W\n",
    "ax.errorbar(1.154, cat['F115W_AUTO_fnu'][src],\n",
    "            yerr=cat['F115W_AUTO_enu'][src],\n",
    "            fmt='o', c='C0')\n",
    "# F150W\n",
    "ax.errorbar(1.501, cat['F150W_AUTO_fnu'][src],\n",
    "            yerr=cat['F150W_AUTO_enu'][src],\n",
    "            fmt='o', c='C0')\n",
    "# F200W\n",
    "ax.errorbar(1.990, cat['F200W_AUTO_fnu'][src],\n",
    "            yerr=cat['F200W_AUTO_enu'][src],\n",
    "            fmt='o', c='C0')\n",
    "# F356W\n",
    "ax.errorbar(3.563, cat['F356W_AUTO_fnu'][src],\n",
    "            yerr=cat['F356W_AUTO_enu'][src],\n",
    "            fmt='o', c='C0')\n",
    "ax.errorbar(3.563, F356W_noline.value,\n",
    "            yerr=cat['F356W_AUTO_enu'][src],\n",
    "            fmt='o', c='C1')\n",
    "\n",
    "# Load MCMC\n",
    "chain = np.load(f'mcmc_dpl_fit_chain.npy')\n",
    "xx = np.linspace(1, 4, 1000)\n",
    "chain_len = 10000\n",
    "yy_list = []\n",
    "for i, params in enumerate(chain[-chain_len:]):\n",
    "    yy_list.append(double_power_law(xx, *params))\n",
    "ax.fill_between(xx, np.percentile(yy_list, 16, axis=0),\n",
    "                 np.percentile(yy_list, 84, axis=0), alpha=0.5, color='C0')\n",
    "ax.plot(xx, np.median(yy_list, axis=0), c='C0')\n",
    "ax.plot(xx, double_power_law(xx, 400, 1.5, -2, 2), c='C1')\n",
    "\n",
    "ax.set_ylim(30, 600)\n",
    "\n",
    "ax.plot(xx, 300 * xx**-1.2)\n",
    "\n",
    "plt.show()"
   ]
  },
  {
   "cell_type": "code",
   "execution_count": null,
   "metadata": {},
   "outputs": [],
   "source": [
    "wav1500 = 1500 * u.AA\n",
    "redshift = 6.5916\n",
    "\n",
    "beta_list = []\n",
    "\n",
    "for iii in range(len(yy_list)):\n",
    "    rest_wav = xx * u.micron / (1 + redshift)\n",
    "    rest_flux = yy_list[iii] * (1 + redshift)\n",
    "\n",
    "    # Covnert flux to flambda\n",
    "    rest_flux = rest_flux * c.c / rest_wav**2\n",
    "\n",
    "    flux1500 = np.interp(wav1500, rest_wav, rest_flux)\n",
    "\n",
    "    dfdl = np.interp(wav1500, rest_wav, np.gradient(rest_flux, rest_wav))\n",
    "    beta = dfdl * wav1500 / flux1500\n",
    "    beta_list.append(beta.to(u.dimensionless_unscaled).value)\n",
    "\n",
    "beta_percs = np.percentile(beta_list, [16, 50, 84])\n",
    "\n",
    "print(beta_percs[1], -beta_percs[1] + beta_percs)"
   ]
  },
  {
   "cell_type": "code",
   "execution_count": null,
   "metadata": {},
   "outputs": [],
   "source": [
    "# Chisholm+22\n",
    "N_iter = 100000\n",
    "a = np.random.normal(1.3, 0.6, N_iter)\n",
    "b = np.random.normal(-1.22, 0.1, N_iter)\n",
    "beta = np.random.choice(beta_list, replace=True, size=N_iter)\n",
    "\n",
    "fesc_Arr = a * 1e-4 * 10.**(b * beta)\n",
    "\n",
    "fesc_percs = np.percentile(fesc_Arr, [16, 50, 84])\n",
    "print(fesc_percs[1], -fesc_percs[1] + fesc_percs)\n",
    "print(np.percentile(fesc_Arr, [16]))"
   ]
  },
  {
   "cell_type": "code",
   "execution_count": null,
   "metadata": {},
   "outputs": [],
   "source": [
    "from jpasLAEs.utils import flux_to_mag\n",
    "from astropy.cosmology import Planck18 as cosmo\n",
    "\n",
    "# Compute MUV\n",
    "this_distmod = cosmo.distmod(redshift).value\n",
    "flx_units = u.erg * u.cm**-2 * u.s**-1 * u.AA**-1\n",
    "\n",
    "wav1500 = 1500 * (1 + redshift)\n",
    "obs_wav = (xx * u.micron).to(u.AA).value\n",
    "\n",
    "m_list = []\n",
    "\n",
    "for iii in range(len(yy_list)):\n",
    "    obs_flux = yy_list[iii]\n",
    "\n",
    "    flux1500 = (np.interp(wav1500, obs_wav, obs_flux) * u.nJy * c.c / (1500 * (1 + redshift) * u.AA)**2).to(flx_units).value\n",
    "\n",
    "    this_m_UV = flux_to_mag(flux1500, wav1500)\n",
    "    this_m_UV[~np.isfinite(this_m_UV)] = -99\n",
    "\n",
    "    m_list.append(this_m_UV[0])\n",
    "\n",
    "this_M_UV_Arr = np.asarray(m_list) - this_distmod + 2.5 * np.log10(1 + redshift)\n",
    "\n",
    "MUV_percs = np.percentile(this_M_UV_Arr, [16, 50, 86])\n",
    "print(MUV_percs[1], -MUV_percs[1] + MUV_percs)"
   ]
  }
 ],
 "metadata": {
  "kernelspec": {
   "display_name": "base",
   "language": "python",
   "name": "python3"
  },
  "language_info": {
   "codemirror_mode": {
    "name": "ipython",
    "version": 3
   },
   "file_extension": ".py",
   "mimetype": "text/x-python",
   "name": "python",
   "nbconvert_exporter": "python",
   "pygments_lexer": "ipython3",
   "version": "3.12.0"
  }
 },
 "nbformat": 4,
 "nbformat_minor": 2
}
