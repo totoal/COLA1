{
 "cells": [
  {
   "cell_type": "code",
   "execution_count": null,
   "metadata": {},
   "outputs": [],
   "source": [
    "import numpy as np\n",
    "import matplotlib.pyplot as plt\n",
    "\n",
    "import matplotlib\n",
    "matplotlib.rc('font', **{'family': 'serif', 'serif': ['Computer Modern']})\n",
    "matplotlib.rc('text', usetex=True)\n",
    "matplotlib.rcParams.update({'font.size': 16})\n",
    "\n",
    "from astropy.io import fits\n",
    "from astropy.cosmology import Planck18 as cosmo\n",
    "import astropy.units as u"
   ]
  },
  {
   "cell_type": "code",
   "execution_count": null,
   "metadata": {},
   "outputs": [],
   "source": [
    "CAT_PATH = '/home/alberto/portatilHP/cosmos/ista/COLA1/catalogs/eiger/EIGER_5fields_O3doublets_SYSTEMS_31102023_with_Prosp.fits'\n",
    "cat = fits.open(CAT_PATH)[1].data\n",
    "CAT_PATH_C1F = '/home/alberto/portatilHP/cosmos/ista/COLA1/catalogs/F200W_cat/F200W_det_O3_doublets.fits'\n",
    "cat_C1F = fits.open(CAT_PATH_C1F)[1].data\n",
    "cat.columns"
   ]
  },
  {
   "cell_type": "code",
   "execution_count": null,
   "metadata": {},
   "outputs": [],
   "source": [
    "# THIS IS FROM C1F!!!!\n",
    "fwhm_star = 0.04 * 2.355 * 0 # arcsec\n",
    "\n",
    "def fwhm_int_simple(fwhm_obs, fwhm_star):\n",
    "    return (fwhm_obs**2 + fwhm_star**2) ** 0.5"
   ]
  },
  {
   "cell_type": "code",
   "execution_count": null,
   "metadata": {},
   "outputs": [],
   "source": [
    "FWHM_int = fwhm_int_simple(cat['FWHM_WORLD_det'] * 60, fwhm_star) * u.arcsec\n",
    "FWHM_int_C1F = fwhm_int_simple(cat_C1F['FWHM_WORLD'] * 3600, fwhm_star) * u.arcsec\n",
    "\n",
    "R_eff= (FWHM_int / 2 * cosmo.kpc_proper_per_arcmin(cat['z_O3doublet_combined_n'])).to(u.kpc).value\n",
    "R_eff_C1F = (FWHM_int / 2 * cosmo.kpc_proper_per_arcmin(cat['z_O3doublet_combined_n'])).to(u.kpc).value"
   ]
  },
  {
   "cell_type": "code",
   "execution_count": null,
   "metadata": {},
   "outputs": [],
   "source": [
    "fig, ax = plt.subplots()\n",
    "\n",
    "ax.scatter(cat['MUV_prosp'], R_eff)\n",
    "mask = (cat['MUV_prosp'] < -20) & (R_eff < 0.33)\n",
    "ax.scatter(cat['MUV_prosp'][mask], R_eff[mask])\n",
    "\n",
    "ax.set_ylabel('R_50 [A. U.]')\n",
    "ax.set_xlabel('M_UV')\n",
    "\n",
    "ax.set_xlim(-22, -16)\n",
    "ax.set_ylim(0.1, 1)\n",
    "\n",
    "plt.show()\n",
    "\n",
    "##\n",
    "\n",
    "fig, ax = plt.subplots()\n",
    "\n",
    "ax.scatter(cat['MUV_prosp'], cat['EWO3_prosp'] * 1.33 + cat['EWHb_prosp'])\n",
    "ax.errorbar(cat['MUV_prosp'][mask], cat['EWO3_prosp'][mask] * 1.33 + cat['EWHb_prosp'][mask],\n",
    "            yerr=[(cat['EWO3_prosp_84'] + cat['EWHb_prosp'] - cat['EWO3_prosp'] - cat['EWHb_prosp'])[mask]],\n",
    "            ls='', c='C1', marker='o')\n",
    "\n",
    "ax.set_xlim(-22, -16)\n",
    "# ax.set_ylim(0.1, 1)\n",
    "\n",
    "ax.set_ylabel('EW(O3_5008 + Hb)')\n",
    "ax.set_xlabel('M_UV')\n",
    "\n",
    "plt.show()"
   ]
  },
  {
   "cell_type": "code",
   "execution_count": null,
   "metadata": {},
   "outputs": [],
   "source": []
  }
 ],
 "metadata": {
  "kernelspec": {
   "display_name": "py3.12",
   "language": "python",
   "name": "python3"
  },
  "language_info": {
   "codemirror_mode": {
    "name": "ipython",
    "version": 3
   },
   "file_extension": ".py",
   "mimetype": "text/x-python",
   "name": "python",
   "nbconvert_exporter": "python",
   "pygments_lexer": "ipython3",
   "version": "3.12.2"
  }
 },
 "nbformat": 4,
 "nbformat_minor": 2
}
