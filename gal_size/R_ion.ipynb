{
 "cells": [
  {
   "cell_type": "code",
   "execution_count": null,
   "metadata": {},
   "outputs": [],
   "source": [
    "import numpy as np\n",
    "import matplotlib.pyplot as plt\n",
    "from scipy.optimize import curve_fit\n",
    "from astropy.cosmology import Planck18 as cosmo\n",
    "import astropy.units as u\n",
    "\n",
    "import matplotlib\n",
    "matplotlib.rc('font', **{'family': 'serif', 'serif': ['Computer Modern']})\n",
    "matplotlib.rc('text', usetex=True)\n",
    "matplotlib.rcParams.update({'font.size': 16})"
   ]
  },
  {
   "cell_type": "code",
   "execution_count": null,
   "metadata": {},
   "outputs": [],
   "source": [
    "def R_ion_bubble(t, f_esc, N_dot_ion, n_H):\n",
    "    return (3 * f_esc * N_dot_ion * t / (4 * np.pi * n_H)) ** (1 / 3)"
   ]
  },
  {
   "cell_type": "code",
   "execution_count": null,
   "metadata": {},
   "outputs": [],
   "source": [
    "# # xi_ion for COLA1\n",
    "f_esc = 0.4\n",
    "# fHb = 4.06e-18\n",
    "LHb = 4.06e-18 * cosmo.luminosity_distance(6.59165).to(u.cm).value**2 * np.pi * 4\n",
    "L_UV = 1.3865847552558819e+29\n",
    "\n",
    "# # Schaerer+18\n",
    "N_LyC = 2.1e12 * (1 - f_esc)**-1 * LHb\n",
    "print(f'{N_LyC=}')\n",
    "xi_ion = N_LyC / L_UV\n",
    "print(f'{np.log10(xi_ion)=}')\n",
    "xi_ion = 10**25.45\n",
    "\n",
    "# Mason&Gronke20, Wistok+23: R_ion(t) = (A * t)**(1/3)\n",
    "redshift = 6.6\n",
    "n_H = 1.88e-7 * (1 + redshift)**3\n",
    "A = 3 * f_esc * N_LyC / (4 * np.pi * n_H) * u.s**-1 * u.cm**3\n",
    "\n",
    "# For a bubble of 0.7 Mpc:\n",
    "R_ion = 0.7 * u.Mpc\n",
    "AGE = R_ion**3 / A\n",
    "AGE.to(u.Myr)"
   ]
  },
  {
   "cell_type": "code",
   "execution_count": null,
   "metadata": {},
   "outputs": [],
   "source": [
    "# For the other galaxies in z~6.6\n",
    "M_UV_list = [-17.42, -19.06, -17.56, -19.3, -19.1]\n",
    "\n",
    "fnu_other = 10**(-0.4 * (np.asarray(M_UV_list) + 48.6))  # erg/s/Hz/cm2 at 10 pc\n",
    "LUV_other = np.sum(fnu_other) * (4. * np.pi * (10. * 3.08568 * 10**18)**2)  # erg/s/Hz\n",
    "print(LUV_other)\n",
    "\n",
    "# xi_ion median from Saxena+23\n",
    "N_LyC_other = 10**25.59 * LUV_other"
   ]
  },
  {
   "cell_type": "code",
   "execution_count": null,
   "metadata": {},
   "outputs": [],
   "source": [
    "fig, ax = plt.subplots(figsize=(6, 4))\n",
    "\n",
    "t_Arr = np.linspace(0, 200, 1000) * u.Myr\n",
    "\n",
    "fesc_list = [0.05, 0.10, 0.2, 0.3, 0.4, 0.6]\n",
    "\n",
    "for iii, f_esc in enumerate(fesc_list):\n",
    "    N_LyC = 2.1e12 * (1 - f_esc)**-1 * LHb\n",
    "    R_ion = R_ion_bubble(t_Arr, f_esc, N_LyC * u.s**-1, n_H * u.cm**-3)\n",
    "\n",
    "    ax.plot(t_Arr, R_ion.to(u.Mpc).value,\n",
    "            label=f'{f_esc* 100:0.0f}' + r'\\%',\n",
    "            lw=2.2, c=f'C{iii}')\n",
    "\n",
    "for iii, f_esc in enumerate(fesc_list):\n",
    "    N_LyC = 2.1e12 * (1 - f_esc)**-1 * LHb\n",
    "    R_ion = R_ion_bubble(t_Arr, f_esc, (N_LyC + N_LyC_other / f_esc * 0.1) * u.s**-1, n_H * u.cm**-3)\n",
    "\n",
    "    print(f'{f_esc=}, {N_LyC * f_esc / (0.1 * N_LyC_other + f_esc * N_LyC)}')\n",
    "\n",
    "    ax.plot(t_Arr, R_ion.to(u.Mpc).value, ls=':', lw=2.2, c=f'C{iii}')\n",
    "\n",
    "# ax.axhline(0.7, ls='--', c='dimgray', zorder=-99)\n",
    "# ax.axhline(0.3, ls='-.', c='dimgray', zorder=-99)\n",
    "xx = np.linspace(0, 200, 100)\n",
    "ax.fill_between(xx, xx * 0, np.ones_like(xx) * 0.7, alpha=0.15,\n",
    "                color='k', lw=0, zorder=-99)\n",
    "ax.fill_between(xx, xx * 0, np.ones_like(xx) * 0.3, alpha=0.15,\n",
    "                color='k', lw=0, zorder=-99)\n",
    "\n",
    "ax.set_xlim(0, 100)\n",
    "ax.set_ylim(0, 1.5)\n",
    "\n",
    "# ax.set_xscale('log')\n",
    "# ax.set_yscale('log')\n",
    "\n",
    "ax.set_ylabel('Bubble radius [pMpc]')\n",
    "ax.set_xlabel(r'$t_*$ [Myr]')\n",
    "\n",
    "# ax.plot([], [], ls='-', c='none', label=r'$f_{\\rm esc}$(LyC)')\n",
    "\n",
    "handles, labels = ax.get_legend_handles_labels()\n",
    "order = np.arange(len(labels))[::-1]\n",
    "ax.legend([handles[idx] for idx in order],[labels[idx] for idx in order],\n",
    "          fontsize=11, frameon=False, markerfirst=True,\n",
    "          title=r'$f_{\\rm esc}$(LyC)', title_fontsize=11.5)\n",
    "\n",
    "ax.tick_params(direction='in', which='both')\n",
    "ax.xaxis.set_ticks_position('both')\n",
    "ax.yaxis.set_ticks_position('both')\n",
    "\n",
    "savefig_path = '/home/alberto/cosmos/ista/COLA1/paper/figures'\n",
    "fig.savefig(f'{savefig_path}/R_ion_bubble.pdf', bbox_inches='tight', pad_inches=0.1,\n",
    "            facecolor='w')\n",
    "plt.show()"
   ]
  }
 ],
 "metadata": {
  "kernelspec": {
   "display_name": "base",
   "language": "python",
   "name": "python3"
  },
  "language_info": {
   "codemirror_mode": {
    "name": "ipython",
    "version": 3
   },
   "file_extension": ".py",
   "mimetype": "text/x-python",
   "name": "python",
   "nbconvert_exporter": "python",
   "pygments_lexer": "ipython3",
   "version": "3.12.0"
  }
 },
 "nbformat": 4,
 "nbformat_minor": 2
}
