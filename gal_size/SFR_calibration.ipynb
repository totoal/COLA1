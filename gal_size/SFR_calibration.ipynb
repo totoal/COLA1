{
 "cells": [
  {
   "cell_type": "code",
   "execution_count": null,
   "metadata": {},
   "outputs": [],
   "source": [
    "import numpy as np\n",
    "import matplotlib.pyplot as plt\n",
    "from scipy.optimize import curve_fit\n",
    "from astropy.cosmology import Planck18 as cosmo\n",
    "import astropy.units as u"
   ]
  },
  {
   "cell_type": "code",
   "execution_count": null,
   "metadata": {},
   "outputs": [],
   "source": [
    "# From Theios+19\n",
    "xi_ion_xx = [25.44, 25.35, 25.3, 25.16, 25.10, 24.91, 25.12]\n",
    "SFR_Ha_scale = [41.78, 41.64, 41.59, 41.35, 41.37, 41.14, 41.3]\n",
    "SFR_UV_scale = [43.51, 43.46, 43.46, 43.36, 43.44, 43.4, 43.35]"
   ]
  },
  {
   "cell_type": "code",
   "execution_count": null,
   "metadata": {},
   "outputs": [],
   "source": [
    "# # xi_ion for COLA1\n",
    "f_esc = 0.3\n",
    "# fHb = 4.06e-18\n",
    "LHb = 4.06e-18 * cosmo.luminosity_distance(6.59165).to(u.cm).value**2 * np.pi * 4\n",
    "L_UV = 1.3865847552558819e+29\n",
    "\n",
    "# # Schaerer+18\n",
    "N_LyC = 2.1e12 * (1 - f_esc)**-1 * LHb\n",
    "print(f'{N_LyC=}')\n",
    "xi_ion = N_LyC / L_UV\n",
    "print(f'{np.log10(xi_ion)=}')\n",
    "xi_ion = 10**25.5"
   ]
  },
  {
   "cell_type": "code",
   "execution_count": null,
   "metadata": {},
   "outputs": [],
   "source": [
    "np.log10((25.676e-18) * cosmo.luminosity_distance(6.59165).to(u.cm).value**2 * np.pi * 4) - np.log10((25.676e-18 - 0.388e-18) * cosmo.luminosity_distance(6.59165).to(u.cm).value**2 * np.pi * 4)"
   ]
  },
  {
   "cell_type": "code",
   "execution_count": null,
   "metadata": {},
   "outputs": [],
   "source": [
    "# Mason&Gronke20, Wistok+23: R_ion(t) = (A * t)**(1/3)\n",
    "redshift = 6.6\n",
    "n_H = 1.88e-7 * (1 + redshift**3)\n",
    "A = 3 * f_esc * N_LyC / (4 * np.pi * n_H) * u.s**-1 * u.cm**3\n",
    "\n",
    "# For a bubble of 0.7 Mpc:\n",
    "R_ion = 0.7 * u.Mpc\n",
    "AGE = R_ion**3 / A\n",
    "AGE.to(u.Myr)"
   ]
  },
  {
   "cell_type": "code",
   "execution_count": null,
   "metadata": {},
   "outputs": [],
   "source": [
    "fig, ax = plt.subplots()\n",
    "\n",
    "xx = np.linspace(24.5, 26, 10)\n",
    "\n",
    "popt, pcov = curve_fit(lambda x, m, b: m*x + b, xi_ion_xx, SFR_Ha_scale)\n",
    "ax.scatter(xi_ion_xx, SFR_Ha_scale)\n",
    "ax.plot(xx, popt[0]*xx + popt[1], c='C1')\n",
    "\n",
    "SFR_C_Hb = np.log10(xi_ion) * popt[0] + popt[1]\n",
    "print(f'{popt[0]=}')\n",
    "print(f'{SFR_C_Hb=}')\n",
    "SFR_Hb = 2.86 * LHb / 10**SFR_C_Hb\n",
    "print(f'{SFR_Hb=}')\n",
    "Sigma_SFR_Hb = SFR_Hb / (2 * np.pi * 0.37**2)\n",
    "print(f'{np.log10(Sigma_SFR_Hb)=}')\n",
    "\n",
    "plt.show()\n",
    "\n",
    "fig, ax = plt.subplots()\n",
    "\n",
    "\n",
    "popt, pcov = curve_fit(lambda x, m, b: m*x + b, xi_ion_xx, SFR_UV_scale)\n",
    "ax.scatter(xi_ion_xx, SFR_UV_scale)\n",
    "ax.plot(xx, popt[0]*xx + popt[1], c='C1')\n",
    "\n",
    "SFR_C_UV = np.log10(xi_ion) * popt[0] + popt[1]\n",
    "SFR_UV = L_UV / 10**SFR_C_UV * 299792458 / 1500e-10\n",
    "print(f'{popt[0]=}')\n",
    "print(f'{SFR_C_UV=}')\n",
    "print(f'{SFR_UV=}')\n",
    "Sigma_SFR_UV = SFR_UV / (2 * np.pi * 0.37**2)\n",
    "print(f'{np.log10(Sigma_SFR_UV)=}')\n",
    "\n",
    "plt.show()"
   ]
  }
 ],
 "metadata": {
  "kernelspec": {
   "display_name": "base",
   "language": "python",
   "name": "python3"
  },
  "language_info": {
   "codemirror_mode": {
    "name": "ipython",
    "version": 3
   },
   "file_extension": ".py",
   "mimetype": "text/x-python",
   "name": "python",
   "nbconvert_exporter": "python",
   "pygments_lexer": "ipython3",
   "version": "3.12.0"
  }
 },
 "nbformat": 4,
 "nbformat_minor": 2
}
