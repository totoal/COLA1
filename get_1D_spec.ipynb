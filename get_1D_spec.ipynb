{
 "cells": [
  {
   "cell_type": "code",
   "execution_count": null,
   "metadata": {},
   "outputs": [],
   "source": [
    "import numpy as np\n",
    "import matplotlib.pyplot as plt\n",
    "from astropy.io import fits\n",
    "import glob\n",
    "\n",
    "from grism.eiger import get_wav_array"
   ]
  },
  {
   "cell_type": "code",
   "execution_count": null,
   "metadata": {},
   "outputs": [],
   "source": [
    "spec_dir = '../spectra/SPECTRA_O3'\n",
    "\n",
    "# List spectra\n",
    "spec_list = glob.glob(f'{spec_dir}/*')\n",
    "\n",
    "fits.open(spec_list[0]).info()"
   ]
  },
  {
   "cell_type": "code",
   "execution_count": null,
   "metadata": {},
   "outputs": [],
   "source": [
    "# Load candidate list\n",
    "COLA1_cat = fits.open('/home/alberto/cosmos/ista/COLA1/VISCHECK_COLA1_O3/COLA1_O3_candidates_2_JMcheck.fits')\n",
    "COLA1_cat[1].data.columns"
   ]
  },
  {
   "cell_type": "code",
   "execution_count": null,
   "metadata": {},
   "outputs": [],
   "source": [
    "# [OIII]\n",
    "w_O3_1 = 4960.295\n",
    "w_O3_2 = 5008.240\n",
    "w_Hbeta = 4862.68"
   ]
  },
  {
   "cell_type": "code",
   "execution_count": null,
   "metadata": {},
   "outputs": [],
   "source": [
    "# Random spec src\n",
    "src = np.random.randint(len(spec_list))\n",
    "\n",
    "spec_hdul = fits.open(spec_list[src])\n",
    "\n",
    "emline_1d = np.sum(spec_hdul['EMLINE'].data, axis=0)\n",
    "w_Arr = get_wav_array(spec_list[src])\n",
    "number = spec_hdul['SRC_INFO'].data['ID']\n",
    "\n",
    "z_O3doublet = COLA1_cat[1].data['z_O3doublet'][COLA1_cat[1].data['NUMBER_1'] == number]\n",
    "O3_1_obs_wav = w_O3_1 * (1 + z_O3doublet)\n",
    "O3_2_obs_wav = w_O3_2 * (1 + z_O3doublet)\n",
    "Hbeta_obs_wav = w_Hbeta * (1 + z_O3doublet)\n",
    "\n",
    "wav_mask = (w_Arr < O3_1_obs_wav + 800) & (w_Arr > Hbeta_obs_wav - 300)\n",
    "\n",
    "fig, ax = plt.subplots(figsize=(14, 6))\n",
    "\n",
    "ax.plot(w_Arr[wav_mask], emline_1d[wav_mask])\n",
    "\n",
    "ax.axvline(O3_1_obs_wav, c='orange', ls='--')\n",
    "ax.axvline(O3_2_obs_wav, c='orange', ls='--')\n",
    "ax.axvline(Hbeta_obs_wav, c='orange', ls='--')\n",
    "\n",
    "# ax.set_yscale('log')\n",
    "\n",
    "plt.show()\n",
    "\n",
    "fig, ax = plt.subplots(figsize=(14, 6))\n",
    "\n",
    "ax.imshow(np.log10(spec_hdul['EMLINE'].data[:, wav_mask]))\n",
    "\n",
    "plt.show()"
   ]
  }
 ],
 "metadata": {
  "kernelspec": {
   "display_name": "base",
   "language": "python",
   "name": "python3"
  },
  "language_info": {
   "codemirror_mode": {
    "name": "ipython",
    "version": 3
   },
   "file_extension": ".py",
   "mimetype": "text/x-python",
   "name": "python",
   "nbconvert_exporter": "python",
   "pygments_lexer": "ipython3",
   "version": "3.11.0"
  },
  "orig_nbformat": 4
 },
 "nbformat": 4,
 "nbformat_minor": 2
}
