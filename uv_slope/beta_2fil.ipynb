{
 "cells": [
  {
   "cell_type": "code",
   "execution_count": null,
   "metadata": {},
   "outputs": [],
   "source": [
    "from astropy.io import fits\n",
    "import numpy as np\n",
    "\n",
    "import matplotlib\n",
    "matplotlib.rc('font', **{'family': 'serif', 'serif': ['Computer Modern']})\n",
    "matplotlib.rc('text', usetex=True)\n",
    "matplotlib.rcParams.update({'font.size': 16})\n",
    "import matplotlib.pyplot as plt"
   ]
  },
  {
   "cell_type": "code",
   "execution_count": null,
   "metadata": {},
   "outputs": [],
   "source": [
    "cat = fits.open('UV_slopes_COLA1_field_2fil.fits')[1].data\n",
    "cat.columns"
   ]
  },
  {
   "cell_type": "code",
   "execution_count": null,
   "metadata": {},
   "outputs": [],
   "source": [
    "src = cat['NUMBER'] == 9269\n",
    "\n",
    "mask = ((np.asarray(cat['F115W_AUTO_fnu'] / cat['F115W_AUTO_enu']) > 5)\n",
    "        & (np.asarray(cat['F150W_AUTO_fnu'] / cat['F150W_AUTO_enu']) > 5)\n",
    "        & (cat['z_O3doublet'] > 0))\n",
    "\n",
    "fig, ax = plt.subplots()\n",
    "\n",
    "ax.errorbar(cat['F115W_AUTO_mag'][mask], cat['beta'][mask],\n",
    "            yerr=cat['beta_err'][mask], fmt='o', capsize=2,\n",
    "            label='C1F')\n",
    "ax.errorbar(cat['F115W_AUTO_mag'][src], cat['beta'][src],\n",
    "            yerr=cat['beta_err'][src], fmt='*',\n",
    "            ms=20, c='r', capsize=2,\n",
    "            label='COLA1')\n",
    "\n",
    "ax.set_ylim(-5, 0)\n",
    "# ax.set_xlim(24.5, 28.5)\n",
    "\n",
    "ax.set_xlabel('F115W')\n",
    "ax.set_ylabel(r'$\\beta_{\\rm UV}$')\n",
    "\n",
    "ax.legend(fontsize=12)\n",
    "\n",
    "plt.show()"
   ]
  }
 ],
 "metadata": {
  "kernelspec": {
   "display_name": "base",
   "language": "python",
   "name": "python3"
  },
  "language_info": {
   "codemirror_mode": {
    "name": "ipython",
    "version": 3
   },
   "file_extension": ".py",
   "mimetype": "text/x-python",
   "name": "python",
   "nbconvert_exporter": "python",
   "pygments_lexer": "ipython3",
   "version": "3.12.0"
  }
 },
 "nbformat": 4,
 "nbformat_minor": 2
}
