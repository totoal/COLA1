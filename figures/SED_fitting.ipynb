{
 "cells": [
  {
   "cell_type": "code",
   "execution_count": null,
   "metadata": {},
   "outputs": [],
   "source": [
    "import numpy as np\n",
    "\n",
    "import matplotlib\n",
    "import matplotlib.pyplot as plt\n",
    "matplotlib.rc('font', **{'family': 'serif', 'serif': ['Computer Modern']})\n",
    "matplotlib.rc('text', usetex=True)\n",
    "matplotlib.rcParams.update({'font.size': 16})\n",
    "\n",
    "import astropy.units as u\n",
    "import astropy.constants as c\n",
    "from astropy.io import fits"
   ]
  },
  {
   "cell_type": "code",
   "execution_count": null,
   "metadata": {},
   "outputs": [],
   "source": [
    "lam = np.linspace(3000, 60000, 10000) * u.Angstrom\n",
    "phot_lam = np.asarray([11540, 15010, 19900, 35630]) * u.AA\n",
    "\n",
    "spec_samples = np.load('/home/alberto/cosmos/ista/COLA1/prospector/cola1_fesc_specsamples.npy')\n",
    "phot_samples = np.load('/home/alberto/cosmos/ista/COLA1/prospector/cola1_fesc_photsamples.npy')\n",
    "\n",
    "predicted_phot = np.percentile(phot_samples,q=50, axis=0)"
   ]
  },
  {
   "cell_type": "code",
   "execution_count": null,
   "metadata": {},
   "outputs": [],
   "source": [
    "obs_phot = [198.3188560676575,\n",
    "            141.42336194753648,\n",
    "            157.2446328163147,\n",
    "            484.4224055290222]\n",
    "\n",
    "obs_phot_err = [6.669192861020064,\n",
    "                5.551065682766777,\n",
    "                4.207247652390742,\n",
    "                6.896366068635798]"
   ]
  },
  {
   "cell_type": "code",
   "execution_count": null,
   "metadata": {},
   "outputs": [],
   "source": [
    "fig, ax = plt.subplots(figsize=(6, 4))\n",
    "\n",
    "ax.plot(lam, np.percentile(spec_samples, 50, axis=0), c='dimgray',)\n",
    "        # label='Predicted spectrum')\n",
    "ax.fill_between(lam.value, np.percentile(spec_samples, 16, axis=0),\n",
    "                np.percentile(spec_samples, 84, axis=0),\n",
    "                alpha=0.4, color='dimgray', lw=0)\n",
    "\n",
    "ax.plot(phot_lam, predicted_phot,\n",
    "        ls='', marker='s', ms=10, mfc='none',\n",
    "        mew=2, c='k', label='Predicted')\n",
    "ax.errorbar(phot_lam, obs_phot, yerr=np.array(obs_phot_err) * 3,\n",
    "        ls='', marker='o', ms=8, mec='k', mfc='crimson',\n",
    "        ecolor='k', capsize=2, label='Observed')\n",
    "\n",
    "ax.set_ylim(np.min(np.percentile(phot_samples,q=50, axis=0))*0.5, \n",
    "         np.max(np.percentile(phot_samples,q=50, axis=0))*1.2)\n",
    "ax.set_xlim(2000, 51000)\n",
    "\n",
    "ax.set_xlabel(r'Observed wavelength [\\AA]')\n",
    "ax.set_ylabel('Flux [nJy]')\n",
    "\n",
    "ax.legend(fontsize=13)\n",
    "\n",
    "ax.tick_params(direction='in', which='both', labelsize=13)\n",
    "ax.yaxis.set_ticks_position('both')\n",
    "ax.xaxis.set_ticks_position('both')\n",
    "\n",
    "savefig_path = '/home/alberto/cosmos/ista/COLA1/paper/figures'\n",
    "fig.savefig(f'{savefig_path}/SED_fit_prosp.pdf', bbox_inches='tight', pad_inches=0.1,\n",
    "            facecolor='w')\n",
    "plt.show()"
   ]
  }
 ],
 "metadata": {
  "kernelspec": {
   "display_name": "base",
   "language": "python",
   "name": "python3"
  },
  "language_info": {
   "codemirror_mode": {
    "name": "ipython",
    "version": 3
   },
   "file_extension": ".py",
   "mimetype": "text/x-python",
   "name": "python",
   "nbconvert_exporter": "python",
   "pygments_lexer": "ipython3",
   "version": "3.12.0"
  }
 },
 "nbformat": 4,
 "nbformat_minor": 2
}
