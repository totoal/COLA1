{
 "cells": [
  {
   "cell_type": "code",
   "execution_count": null,
   "metadata": {},
   "outputs": [],
   "source": [
    "import numpy as np\n",
    "\n",
    "import matplotlib\n",
    "import matplotlib.pyplot as plt\n",
    "matplotlib.rc('font', **{'family': 'serif', 'serif': ['Computer Modern']})\n",
    "matplotlib.rc('text', usetex=True)\n",
    "matplotlib.rcParams.update({'font.size': 16})"
   ]
  },
  {
   "cell_type": "code",
   "execution_count": null,
   "metadata": {},
   "outputs": [],
   "source": [
    "line_dict = {\n",
    "    r'[OIII]$_{\\lambda 5008}$': 5008,\n",
    "    r'[OIII]$_{\\lambda 4960}$': 4960,\n",
    "    r'H$\\beta$': 4862,\n",
    "    r'[OIII]$_{\\lambda 4364}$': 4364,\n",
    "    r'H$\\gamma$': 4341\n",
    "}\n",
    "\n",
    "line_dict_items = [[a, b] for a, b in line_dict.items()]"
   ]
  },
  {
   "cell_type": "code",
   "execution_count": null,
   "metadata": {},
   "outputs": [],
   "source": [
    "FIELD = 'COLA1'\n",
    "thisID = 9269\n",
    "\n",
    "this_z = 6.5916\n",
    "\n",
    "fig, axes = plt.subplots(5, 2, figsize=(5, 12), sharey='row')\n",
    "\n",
    "for i, mod in enumerate(['A', 'B']):\n",
    "    for j in range(axes.shape[0]):\n",
    "        this_ax = axes.T[i, j]\n",
    "\n",
    "        thisline = line_dict_items[j][1]\n",
    "\n",
    "        obs_wav = np.load(f'../COLA1_fluxes/{FIELD}_{thisID}_{int(thisline)}_mod{mod}_obswav.npy')\n",
    "        flux_tot = np.load(f'../COLA1_fluxes/{FIELD}_{thisID}_{int(thisline)}_mod{mod}_fluxtot.npy')\n",
    "        flux_tot_err = np.load(f'../COLA1_fluxes/{FIELD}_{thisID}_{int(thisline)}_mod{mod}_fluxtoterr.npy')\n",
    "        xx = np.load(f'../COLA1_fluxes/{FIELD}_{thisID}_{int(thisline)}_mod{mod}_xx.npy')\n",
    "        yy = np.load(f'../COLA1_fluxes/{FIELD}_{thisID}_{int(thisline)}_mod{mod}_yy.npy')\n",
    "\n",
    "        wav_0_min = thisline - 10\n",
    "        wav_0_max = thisline + 10\n",
    "        sel_wav = (obs_wav > wav_0_min * (1 + this_z) - 10) & (obs_wav < wav_0_max * (1 + this_z) + 10)\n",
    "\n",
    "        this_ax.plot(obs_wav[sel_wav], flux_tot[sel_wav], drawstyle='steps-mid', c='k',\n",
    "                     lw=1.5)\n",
    "        this_ax.plot(xx, yy, lw=1.5, c='cornflowerblue')\n",
    "        this_ax.fill_between(obs_wav[sel_wav], -flux_tot_err[sel_wav],\n",
    "                        flux_tot_err[sel_wav], lw=0, alpha=0.4, color='cornflowerblue')\n",
    "\n",
    "        # Plot params\n",
    "        this_ax.tick_params(direction='in', which='both', labelsize=12)\n",
    "        this_ax.yaxis.set_ticks_position('both')\n",
    "        this_ax.xaxis.set_ticks_position('both')\n",
    "\n",
    "        if [i, j] == [0, 2]:\n",
    "            this_ax.set_ylabel(r'$f_\\lambda\\cdot 10^{-18}$ [erg\\,s$^{-1}$\\,cm$^{-2}$\\,\\AA$^{-1}$]')\n",
    "        if j == 4:\n",
    "            this_ax.set_xlabel(r'Wavelength [\\AA]')\n",
    "\n",
    "        this_ax.set_xlim(wav_0_min * (1 + this_z), wav_0_max * (1 + this_z))\n",
    "\n",
    "        # xticks\n",
    "        xticks = np.arange(32850, 38200, 50)\n",
    "        xticks = xticks[((xticks > wav_0_min * (1 + this_z))\n",
    "                         & (xticks < wav_0_max * (1 + this_z)))]\n",
    "        this_ax.set_xticks(xticks)\n",
    "\n",
    "        # Make legend with dummy point to indicate the line\n",
    "        line_name = line_dict_items[j][0]\n",
    "        this_ax.plot([], [], ls='', label=line_name)\n",
    "        this_ax.legend(fontsize=10, loc='upper left', markerfirst=False,\n",
    "                       frameon=False)\n",
    "\n",
    "\n",
    "\n",
    "fig.subplots_adjust(wspace=0.02, hspace=0.15)\n",
    "savefig_path = '/home/alberto/cosmos/ista/COLA1/paper/figures'\n",
    "fig.savefig(f'{savefig_path}/COLA1_all_line_fits.pdf', bbox_inches='tight', pad_inches=0.01,\n",
    "            facecolor='w')\n",
    "plt.show()"
   ]
  }
 ],
 "metadata": {
  "kernelspec": {
   "display_name": "base",
   "language": "python",
   "name": "python3"
  },
  "language_info": {
   "codemirror_mode": {
    "name": "ipython",
    "version": 3
   },
   "file_extension": ".py",
   "mimetype": "text/x-python",
   "name": "python",
   "nbconvert_exporter": "python",
   "pygments_lexer": "ipython3",
   "version": "3.12.0"
  }
 },
 "nbformat": 4,
 "nbformat_minor": 2
}
