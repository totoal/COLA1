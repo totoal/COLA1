{
 "cells": [
  {
   "cell_type": "code",
   "execution_count": null,
   "metadata": {},
   "outputs": [],
   "source": [
    "from PIL import Image\n",
    "Image.MAX_IMAGE_PIXELS = None\n",
    "\n",
    "import numpy as np\n",
    "\n",
    "from astropy.io import fits"
   ]
  },
  {
   "cell_type": "code",
   "execution_count": null,
   "metadata": {},
   "outputs": [],
   "source": [
    "# Load the image\n",
    "RGBFILE = '/home/alberto/cosmos/ista/COLA1/images/stiff_bin1_cola1.tif'\n",
    "\n",
    "img = Image.open(RGBFILE)\n",
    "img = np.asarray(img)\n",
    "img = img[::-1, :, :]  # for some reason it flips it"
   ]
  },
  {
   "cell_type": "code",
   "execution_count": null,
   "metadata": {},
   "outputs": [],
   "source": [
    "# Load catalog\n",
    "cat = fits.open('/home/alberto/cosmos/ista/COLA1/catalogs/COLA1_O3doublet_catalog_1.3.fits')[1].data"
   ]
  },
  {
   "cell_type": "code",
   "execution_count": null,
   "metadata": {},
   "outputs": [],
   "source": [
    "SAVE_DIR = '/home/alberto/cosmos/ista/COLA1/images/O3_candidate_cutoffs'\n",
    "\n",
    "for iii, NUMBER in enumerate(cat['NUMBER']):\n",
    "    xim = int(cat['X_IMAGE_det'][iii])\n",
    "    yim = int(cat['Y_IMAGE_det'][iii])\n",
    "\n",
    "    this_cutoff = img[yim - 40 : yim + 40 + 1, xim - 40 : xim + 40 + 1]\n",
    "\n",
    "    this_cutoff_img = Image.fromarray(np.uint8(this_cutoff[::-1, :, :]))\n",
    "\n",
    "    this_cutoff_img.save(f'{SAVE_DIR}/C1F_O3_emitter_{int(NUMBER)}.tiff')"
   ]
  },
  {
   "cell_type": "code",
   "execution_count": null,
   "metadata": {},
   "outputs": [],
   "source": [
    "import matplotlib.pyplot as plt\n",
    "plt.imshow(this_cutoff)"
   ]
  }
 ],
 "metadata": {
  "kernelspec": {
   "display_name": "base",
   "language": "python",
   "name": "python3"
  },
  "language_info": {
   "codemirror_mode": {
    "name": "ipython",
    "version": 3
   },
   "file_extension": ".py",
   "mimetype": "text/x-python",
   "name": "python",
   "nbconvert_exporter": "python",
   "pygments_lexer": "ipython3",
   "version": "3.12.0"
  }
 },
 "nbformat": 4,
 "nbformat_minor": 2
}
