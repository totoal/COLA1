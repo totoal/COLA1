{
 "cells": [
  {
   "cell_type": "code",
   "execution_count": null,
   "metadata": {},
   "outputs": [],
   "source": [
    "import numpy as np\n",
    "\n",
    "import matplotlib\n",
    "import matplotlib.pyplot as plt\n",
    "import matplotlib.image as mpimg\n",
    "matplotlib.rc('font', **{'family': 'serif', 'serif': ['Computer Modern']})\n",
    "matplotlib.rc('text', usetex=True)\n",
    "matplotlib.rcParams.update({'font.size': 13})\n",
    "\n",
    "from astropy.io import fits\n",
    "\n",
    "from astropy.visualization import ZScaleInterval"
   ]
  },
  {
   "cell_type": "code",
   "execution_count": null,
   "metadata": {},
   "outputs": [],
   "source": [
    "filter_names = ['F115W', 'F150W', 'F200W', 'F356W']\n",
    "tail_removal_path = '/home/alberto/cosmos/ista/COLA1/tail_removal'\n",
    "\n",
    "fig, axes = plt.subplots(5, 2, figsize=(6, 15))\n",
    "\n",
    "for i in range(4):\n",
    "    # Load images before and after\n",
    "    before_img = fits.open(f'{tail_removal_path}/stamp_COLA1_F115W_rot.fits')[0].data\n",
    "    after_img = fits.open(f'{tail_removal_path}/modelremoved_F115W_rot.fits')[0].data\n",
    "\n",
    "    for j in range(2):\n",
    "        this_ax = axes[i, j]\n",
    "\n",
    "        if j == 0:\n",
    "            this_img = before_img[::-1, ::-1].T\n",
    "        elif j == 1:\n",
    "            this_img = after_img[::-1, ::-1].T\n",
    "        else:\n",
    "            raise Exception('What?')\n",
    "\n",
    "        [vmin, vmax] = ZScaleInterval(contrast=0.3).get_limits(this_img.flatten())\n",
    "\n",
    "        this_ax.imshow(this_img, vmin=vmin, vmax=vmax,\n",
    "                       rasterized=True, interpolation='nearest')\n",
    "\n",
    "        this_ax.set_ylim(110, 20)\n",
    "\n",
    "        this_ax.set_yticks([])\n",
    "        this_ax.set_xticks([])\n",
    "\n",
    "# Now the last row\n",
    "composite_before = mpimg.imread(f'{tail_removal_path}/stiff_bin1.tif')\n",
    "composite_after = mpimg.imread(f'{tail_removal_path}/stiff_bin1_rem.tif')\n",
    "# Transpose\n",
    "composite_before = np.transpose(composite_before[:, ::-1], axes=[1, 0, 2])\n",
    "composite_after = np.transpose(composite_after[:, ::-1], axes=[1, 0, 2])\n",
    "\n",
    "axes[4, 0].imshow(composite_before, rasterized=True, interpolation='nearest')\n",
    "axes[4, 1].imshow(composite_after, rasterized=True, interpolation='nearest')\n",
    "\n",
    "\n",
    "# fig.subplot_adjust()\n",
    "\n",
    "plt.show()"
   ]
  }
 ],
 "metadata": {
  "kernelspec": {
   "display_name": "base",
   "language": "python",
   "name": "python3"
  },
  "language_info": {
   "codemirror_mode": {
    "name": "ipython",
    "version": 3
   },
   "file_extension": ".py",
   "mimetype": "text/x-python",
   "name": "python",
   "nbconvert_exporter": "python",
   "pygments_lexer": "ipython3",
   "version": "3.12.0"
  }
 },
 "nbformat": 4,
 "nbformat_minor": 2
}
